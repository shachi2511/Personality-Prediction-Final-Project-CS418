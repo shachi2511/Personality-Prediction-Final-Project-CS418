{
 "cells": [
  {
   "cell_type": "code",
   "id": "initial_id",
   "metadata": {
    "collapsed": true,
    "ExecuteTime": {
     "end_time": "2025-07-28T19:15:27.754463Z",
     "start_time": "2025-07-28T19:15:27.750252Z"
    }
   },
   "source": [
    "import pandas as pd\n",
    "import numpy as np\n",
    "from scipy.spatial.distance import euclidean\n",
    "\n",
    "# Define the reference profiles\n",
    "personality_profiles = {\n",
    "    'Introvert': np.array([3.8, 2.1, 2.3, 2.0, 3.7, 2.8]),\n",
    "    'Extrovert': np.array([2.0, 3.9, 3.8, 3.7, 2.4, 4.1]),\n",
    "    'Ambivert': np.array([2.9, 3.2, 3.1, 2.9, 3.0, 3.4])\n",
    "}"
   ],
   "outputs": [],
   "execution_count": 11
  },
  {
   "metadata": {
    "ExecuteTime": {
     "end_time": "2025-07-28T19:16:03.828449Z",
     "start_time": "2025-07-28T19:16:03.825202Z"
    }
   },
   "cell_type": "code",
   "source": "df = pd.read_csv('tests_dataset_with_scores.csv', sep='\\t')",
   "id": "71054dcd1e27a8ee",
   "outputs": [],
   "execution_count": 16
  },
  {
   "metadata": {
    "ExecuteTime": {
     "end_time": "2025-07-28T19:16:04.873942Z",
     "start_time": "2025-07-28T19:16:04.870175Z"
    }
   },
   "cell_type": "code",
   "source": "df.columns.tolist()",
   "id": "5c14bdb1ca6e5143",
   "outputs": [
    {
     "data": {
      "text/plain": [
       "['type',\n",
       " 'user_id',\n",
       " 'social_interaction',\n",
       " 'communication',\n",
       " 'attention',\n",
       " 'group_comfort',\n",
       " 'energy_source',\n",
       " 'self_expression']"
      ]
     },
     "execution_count": 17,
     "metadata": {},
     "output_type": "execute_result"
    }
   ],
   "execution_count": 17
  },
  {
   "metadata": {
    "ExecuteTime": {
     "end_time": "2025-07-28T19:16:35.372370Z",
     "start_time": "2025-07-28T19:16:35.369135Z"
    }
   },
   "cell_type": "code",
   "source": [
    "def classify_personality(row, profiles):\n",
    "    # Extract scores from the row\n",
    "    scores = np.array([\n",
    "        row['social_interaction'],\n",
    "        row['communication'],\n",
    "        row['attention'],\n",
    "        row['group_comfort'],\n",
    "        row['energy_source'],\n",
    "        row['self_expression']\n",
    "    ])\n",
    "\n",
    "    # Compute distance to each profile\n",
    "    closest = min(\n",
    "        profiles.items(),\n",
    "        key=lambda item: euclidean(scores, item[1])\n",
    "    )[0]\n",
    "\n",
    "    return closest\n",
    "\n"
   ],
   "id": "ff809f30bb40abba",
   "outputs": [],
   "execution_count": 19
  },
  {
   "metadata": {
    "ExecuteTime": {
     "end_time": "2025-07-28T19:16:37.767639Z",
     "start_time": "2025-07-28T19:16:37.758247Z"
    }
   },
   "cell_type": "code",
   "source": [
    "# Apply classification to each row\n",
    "df['personality_type'] = df.apply(classify_personality, axis=1, profiles=personality_profiles)"
   ],
   "id": "6f305daf1726dfd2",
   "outputs": [],
   "execution_count": 20
  },
  {
   "metadata": {
    "ExecuteTime": {
     "end_time": "2025-07-28T19:17:42.063175Z",
     "start_time": "2025-07-28T19:17:42.056253Z"
    }
   },
   "cell_type": "code",
   "source": "df.to_csv('classified_dataset.csv', index=False)",
   "id": "3aa2daab4c739fbb",
   "outputs": [],
   "execution_count": 21
  }
 ],
 "metadata": {
  "kernelspec": {
   "display_name": "Python 3",
   "language": "python",
   "name": "python3"
  },
  "language_info": {
   "codemirror_mode": {
    "name": "ipython",
    "version": 2
   },
   "file_extension": ".py",
   "mimetype": "text/x-python",
   "name": "python",
   "nbconvert_exporter": "python",
   "pygments_lexer": "ipython2",
   "version": "2.7.6"
  }
 },
 "nbformat": 4,
 "nbformat_minor": 5
}
